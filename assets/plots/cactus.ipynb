{
 "cells": [
  {
   "cell_type": "code",
   "execution_count": 1,
   "metadata": {
    "inputHidden": false,
    "outputHidden": false,
    "papermill": {
     "duration": 0.029865,
     "end_time": "2019-05-13T15:16:21.468377",
     "exception": false,
     "start_time": "2019-05-13T15:16:21.438512",
     "status": "completed"
    },
    "tags": [
     "parameters"
    ]
   },
   "outputs": [],
   "source": [
    "db_path = \"benchmark.db\"\n",
    "measure = \"cpu_time\""
   ]
  },
  {
   "cell_type": "code",
   "execution_count": 2,
   "metadata": {
    "papermill": {
     "duration": 0.025181,
     "end_time": "2019-05-13T15:16:21.499353",
     "exception": false,
     "start_time": "2019-05-13T15:16:21.474172",
     "status": "completed"
    },
    "tags": [
     "injected-parameters"
    ]
   },
   "outputs": [],
   "source": [
    "# Parameters\n",
    "db_path = \"/Users/rkkautsar/college/thesis/benchmark-demo-sat/output/benchmark.db\"\n",
    "measure = \"wall_time\"\n",
    "output = \"statistics/cactus.ipynb\"\n"
   ]
  },
  {
   "cell_type": "code",
   "execution_count": 3,
   "metadata": {
    "inputHidden": false,
    "outputHidden": false,
    "papermill": {
     "duration": 0.464503,
     "end_time": "2019-05-13T15:16:21.968819",
     "exception": false,
     "start_time": "2019-05-13T15:16:21.504316",
     "status": "completed"
    },
    "tags": []
   },
   "outputs": [],
   "source": [
    "from reprobench.utils import init_db\n",
    "init_db(db_path)"
   ]
  },
  {
   "cell_type": "code",
   "execution_count": 4,
   "metadata": {
    "inputHidden": false,
    "outputHidden": false,
    "papermill": {
     "duration": 2.729452,
     "end_time": "2019-05-13T15:16:24.710299",
     "exception": false,
     "start_time": "2019-05-13T15:16:21.980847",
     "status": "completed"
    },
    "tags": []
   },
   "outputs": [],
   "source": [
    "import itertools\n",
    "\n",
    "import pandas as pd\n",
    "import seaborn as sns\n",
    "\n",
    "from reprobench.core.db import Run, Tool, ParameterGroup\n",
    "from reprobench.executors.db import RunStatistic\n",
    "\n",
    "\n",
    "def cactus_plot(measure, **kwargs):\n",
    "    cactus_df = pd.DataFrame()\n",
    "    \n",
    "    for group in ParameterGroup.select():\n",
    "        tool_name = f\"{group.tool_id}_{group.name}\"\n",
    "        measure_field = getattr(RunStatistic, measure)\n",
    "        values_query = (\n",
    "            RunStatistic\n",
    "            .select(measure_field)\n",
    "            .join(Run)\n",
    "            .where(RunStatistic.verdict == RunStatistic.RUNTIME_ERR)\n",
    "            .where(Run.tool_id == group.tool_id)\n",
    "            .where(Run.parameter_group_id == group.id)\n",
    "            .order_by(measure_field)\n",
    "#             .order_by(fn.Random()).limit(100)\n",
    "        )\n",
    "        data = [*itertools.chain.from_iterable(values_query.tuples())]\n",
    "        series = pd.Series(\n",
    "            data=data,\n",
    "            name=tool_name[6:],\n",
    "        ).sample(min(len(data), 50)).sort_values().reset_index(drop=True)\n",
    "#         display(series.reset_index(drop=True))\n",
    "        \n",
    "        cactus_df = cactus_df.append(series, sort=False)\n",
    "    \n",
    "    cactus_df = cactus_df.transpose().reset_index(drop=True)\n",
    "    \n",
    "    return sns.lineplot(data=cactus_df, markers=True, dashes=True, **kwargs)"
   ]
  },
  {
   "cell_type": "code",
   "execution_count": 8,
   "metadata": {
    "inputHidden": false,
    "outputHidden": false,
    "papermill": {
     "duration": 1.434334,
     "end_time": "2019-05-13T15:16:26.150107",
     "exception": false,
     "start_time": "2019-05-13T15:16:24.715773",
     "status": "completed"
    },
    "tags": []
   },
   "outputs": [
    {
     "name": "stderr",
     "output_type": "stream",
     "text": [
      "/Users/rkkautsar/.local/lib/python3.7/site-packages/ipykernel_launcher.py:18: UserWarning: Matplotlib is currently using pgf, which is a non-GUI backend, so cannot show the figure.\n",
      "findfont: Font family ['serif'] not found. Falling back to DejaVu Sans.\n"
     ]
    },
    {
     "data": {
      "image/png": "[encoded data removed]",
      "text/plain": [
       "<Figure size 576x432 with 1 Axes>"
      ]
     },
     "metadata": {
      "needs_background": "light"
     },
     "output_type": "display_data"
    }
   ],
   "source": [
    "import matplotlib\n",
    "import matplotlib.pyplot as plt\n",
    "import matplotlib.ticker as ticker\n",
    "\n",
    "matplotlib.use(\"pgf\")\n",
    "pgf_with_rc_fonts = {\n",
    "    \"font.family\": \"serif\",\n",
    "    \"font.serif\": [],                   # use latex default serif font\n",
    "}\n",
    "matplotlib.rcParams.update(pgf_with_rc_fonts)\n",
    "\n",
    "fig, ax = plt.subplots(figsize=(8, 6))\n",
    "plt.xticks()\n",
    "plt.xlabel(\"Instance solved\")\n",
    "plt.ylabel(\"Time (s)\")\n",
    "cactus_plot(measure, ax=ax, linewidth=0, alpha=0.7)\n",
    "\n",
    "plt.show()\n",
    "# plt.savefig(\"cactus.pgf\")\n",
    "# plt.savefig(\"cactus.pdf\")\n",
    "# plt.savefig(\"cactus.png\")"
   ]
  }
 ],
 "metadata": {
  "kernel_info": {
   "name": "python3"
  },
  "kernelspec": {
   "display_name": "Python 3",
   "language": "python",
   "name": "python3"
  },
  "language_info": {
   "codemirror_mode": {
    "name": "ipython",
    "version": 3
   },
   "file_extension": ".py",
   "mimetype": "text/x-python",
   "name": "python",
   "nbconvert_exporter": "python",
   "pygments_lexer": "ipython3",
   "version": "3.7.3"
  },
  "nteract": {
   "version": "0.14.3"
  },
  "papermill": {
   "duration": 7.570802,
   "end_time": "2019-05-13T15:16:27.174363",
   "environment_variables": {},
   "exception": null,
   "input_path": "/Users/rkkautsar/college/thesis/reprobench/reprobench/statistics/plots/cactus/template.ipynb",
   "output_path": "output/statistics/cactus.ipynb",
   "parameters": {
    "db_path": "/Users/rkkautsar/college/thesis/benchmark-demo-sat/output/benchmark.db",
    "measure": "wall_time",
    "output": "statistics/cactus.ipynb"
   },
   "start_time": "2019-05-13T15:16:19.603561",
   "version": "0.19.1"
  }
 },
 "nbformat": 4,
 "nbformat_minor": 4
}
