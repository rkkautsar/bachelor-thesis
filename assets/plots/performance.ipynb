{
  "cells": [
    {
      "cell_type": "code",
      "source": [
        "import pandas as pd\n",
        "import seaborn as sns\n",
        "import matplotlib.pyplot as plt\n",
        "import matplotlib\n",
        "\n",
        "matplotlib.use(\"pgf\")\n",
        "pgf_with_rc_fonts = {\n",
        "    \"font.family\": \"serif\",\n",
        "    \"font.serif\": [],                   # use latex default serif font\n",
        "}\n",
        "matplotlib.rcParams.update(pgf_with_rc_fonts)"
      ],
      "outputs": [],
      "execution_count": 17,
      "metadata": {
        "collapsed": false,
        "outputHidden": false,
        "inputHidden": false
      }
    },
    {
      "cell_type": "code",
      "source": [
        "wall_series = pd.Series(range(3, 91, 3))\n",
        "cpu_series = pd.Series([0.94,0.94,1.48,1.65,1.65,1.68,1.68,1.68,1.68,1.68,1.69,1.69,1.69,1.69,1.7,2.27,4.03,5.14,5.9,6.16,7.18,9.04,9.83,9.84,9.84,10.09,11.07,12.76,12.96,12.96])\n",
        "memory_series = pd.Series([52355072,52355072,54808576,56049664,56049664,56270848,56270848,56270848,56270848,56270848,56270848,56270848,56270848,56270848,56270848,57372672,59535360,59535360,59535360,58884096,59953152,61304832,61304832,60272640,60272640,60272640,60272640,61079552,59830272,59830272])\n",
        "bytes_read = pd.Series([7773917,8118878,8118878,8118878,8118878,8118878,8118878,8118878,8118878,8118878,8118878,8118878,8118878,8134997,8636757,8636757,8819029,8819030,9022806,9226582,9226582,9226582,9226582,9226582,9405782,9549142,9549142])\n",
        "bytes_written = pd.Series([0,700416,700416,864256,864256,864256,864256,864256,864256,864256,864256,864256,864256,1519616,5414912,7434240,8478720,8785920,10956800,14548992,15187968,15187968,15278080,16130048,18640896,20664320,20725760])\n",
        "bytes_received = pd.Series([2,9965,9965,10108,10108,10108,10108,10108,10108,10108,10108,10108,10108,17264,55329,76417,85718,89357,117798,148779,155956,155956,156864,168775,200763,216530,217206])\n",
        "bytes_sent = pd.Series([2,116,116,1430,1430,1430,1430,1430,1430,1430,1430,1430,1430,22008,84156,100460,108335,112815,172402,202734,202923,202923,205374,228567,268790,272278,272297])"
      ],
      "outputs": [],
      "execution_count": 28,
      "metadata": {
        "collapsed": false,
        "outputHidden": false,
        "inputHidden": false
      }
    },
    {
      "cell_type": "code",
      "source": [
        "plt.figure(figsize=(3, 2))\n",
        "ax = matplotlib.pyplot.gca()\n",
        "mkfunc = lambda x, pos: '%1.0fM' % (x * 1e-6) if x >= 1e6 else '%1.0fK' % (x * 1e-3) if x >= 1e3 else '%1.0f' % x\n",
        "mkformatter = matplotlib.ticker.FuncFormatter(mkfunc)\n",
        "ax.yaxis.set_major_formatter(mkformatter)\n",
        "df = pd.DataFrame(dict(memory=memory_series, wall=wall_series))\n",
        "sns.lineplot(data=df, y=\"memory\", x=\"wall\", ax=ax)\n",
        "ax.set(xlabel=\"Time (s)\", ylabel=\"Resident Size (bytes)\")\n",
        "plt.tight_layout(0)\n",
        "plt.savefig(\"perf_rss.pgf\")"
      ],
      "outputs": [
        {
          "output_type": "display_data",
          "data": {
            "text/plain": [
              "<Figure size 216x144 with 1 Axes>"
            ],
            "image/png": "[encoded data removed]"
          },
          "metadata": {
            "needs_background": "light"
          }
        }
      ],
      "execution_count": 26,
      "metadata": {
        "collapsed": false,
        "outputHidden": false,
        "inputHidden": false
      }
    },
    {
      "cell_type": "code",
      "source": [
        "plt.figure(figsize=(3, 2))\n",
        "ax = matplotlib.pyplot.gca()\n",
        "mkfunc = lambda x, pos: '%1.0fM' % (x * 1e-6) if x >= 1e6 else '%1.0fK' % (x * 1e-3) if x >= 1e3 else '%1.0f' % x\n",
        "mkformatter = matplotlib.ticker.FuncFormatter(mkfunc)\n",
        "ax.yaxis.set_major_formatter(mkformatter)\n",
        "df = pd.DataFrame(dict(cpu=cpu_series, wall=wall_series))\n",
        "sns.lineplot(data=df, y=\"cpu\", x=\"wall\", ax=ax)\n",
        "ax.set(xlabel=\"Time (s)\", ylabel=\"CPU Time (s)\")\n",
        "plt.tight_layout(0)\n",
        "plt.savefig(\"perf_cpu.pgf\")"
      ],
      "outputs": [
        {
          "output_type": "display_data",
          "data": {
            "text/plain": [
              "<Figure size 216x144 with 1 Axes>"
            ],
            "image/png": "[encoded data removed]"
          },
          "metadata": {
            "needs_background": "light"
          }
        }
      ],
      "execution_count": 45,
      "metadata": {
        "collapsed": false,
        "outputHidden": false,
        "inputHidden": false
      }
    },
    {
      "cell_type": "code",
      "source": [
        "df = pd.DataFrame()\n",
        "df[\"Read\"] = bytes_read\n",
        "df[\"Written\"] = bytes_written\n",
        "df[\"Received\"] = bytes_received\n",
        "df[\"Sent\"] = bytes_sent\n",
        "df = df.set_index(pd.Series(range(3,82,3)))"
      ],
      "outputs": [],
      "execution_count": 39,
      "metadata": {
        "collapsed": false,
        "outputHidden": false,
        "inputHidden": false
      }
    },
    {
      "cell_type": "code",
      "source": [
        "plt.figure(figsize=(3, 2))\n",
        "\n",
        "ax = matplotlib.pyplot.gca()\n",
        "mkfunc = lambda x, pos: '%1.0fM' % (x * 1e-6) if x >= 1e6 else '%1.0fK' % (x * 1e-3) if x >= 1e3 else '%1.0f' % x\n",
        "mkformatter = matplotlib.ticker.FuncFormatter(mkfunc)\n",
        "ax.yaxis.set_major_formatter(mkformatter)\n",
        "ax.set(xlabel=\"Time (s)\", ylabel=\"Disk I/O (bytes/s)\")\n",
        "\n",
        "sns.lineplot(data=df[[\"Read\", \"Written\"]], ax=ax)\n",
        "\n",
        "plt.tight_layout(0)\n",
        "plt.savefig(\"perf_io_rw.pgf\")"
      ],
      "outputs": [
        {
          "output_type": "display_data",
          "data": {
            "text/plain": [
              "<Figure size 216x144 with 1 Axes>"
            ],
            "image/png": "[encoded data removed]"
          },
          "metadata": {
            "needs_background": "light"
          }
        }
      ],
      "execution_count": 44,
      "metadata": {
        "collapsed": false,
        "outputHidden": false,
        "inputHidden": false
      }
    },
    {
      "cell_type": "code",
      "source": [
        "plt.figure(figsize=(3, 2))\n",
        "\n",
        "ax = matplotlib.pyplot.gca()\n",
        "mkfunc = lambda x, pos: '%1.0fM' % (x * 1e-6) if x >= 1e6 else '%1.0fK' % (x * 1e-3) if x >= 1e3 else '%1.0f' % x\n",
        "mkformatter = matplotlib.ticker.FuncFormatter(mkfunc)\n",
        "ax.yaxis.set_major_formatter(mkformatter)\n",
        "ax.set(xlabel=\"Time (s)\", ylabel=\"Network I/O (bytes/s)\")\n",
        "\n",
        "fig = sns.lineplot(data=df[[\"Received\", \"Sent\"]], ax=ax)\n",
        "\n",
        "plt.tight_layout(0)\n",
        "plt.savefig(\"perf_io_recvsent.pgf\")"
      ],
      "outputs": [
        {
          "output_type": "display_data",
          "data": {
            "text/plain": [
              "<Figure size 216x144 with 1 Axes>"
            ],
            "image/png": "[encoded data removed]"
          },
          "metadata": {
            "needs_background": "light"
          }
        }
      ],
      "execution_count": 43,
      "metadata": {
        "collapsed": false,
        "outputHidden": false,
        "inputHidden": false
      }
    }
  ],
  "metadata": {
    "kernel_info": {
      "name": "python3"
    },
    "language_info": {
      "name": "python",
      "version": "3.7.2",
      "mimetype": "text/x-python",
      "codemirror_mode": {
        "name": "ipython",
        "version": 3
      },
      "pygments_lexer": "ipython3",
      "nbconvert_exporter": "python",
      "file_extension": ".py"
    },
    "kernelspec": {
      "name": "python3",
      "language": "python",
      "display_name": "Python 3"
    },
    "nteract": {
      "version": "0.14.2"
    }
  },
  "nbformat": 4,
  "nbformat_minor": 0
}